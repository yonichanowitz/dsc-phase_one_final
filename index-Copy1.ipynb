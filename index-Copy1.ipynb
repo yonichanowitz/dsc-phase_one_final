{
 "cells": [
  {
   "cell_type": "markdown",
   "id": "9b6b0666",
   "metadata": {},
   "source": [
    "# proposal\n",
    "gather data from film databasees to demonstrate which genre/writters/directors/actors in films are most profiatble at the box office, over a relatively short period of time"
   ]
  },
  {
   "cell_type": "code",
   "execution_count": 1,
   "id": "63d76964",
   "metadata": {},
   "outputs": [],
   "source": [
    "#pandas for reading data and converting them to DataFrameds for using Dataframe methods. \n",
    "#numpy and scipy for calculating said data\n",
    "import pandas as pd\n",
    "import numpy as np\n",
    "import scipy as sp\n",
    "#create graphs of the data that has been analyzed\n",
    "import matplotlib.pyplot as plt\n",
    "#make said graphs \"prettier\" and more enjoyable to read\n",
    "import seaborn as sns\n",
    "#view matplots in this notebook\n",
    "%matplotlib inline"
   ]
  },
  {
   "cell_type": "markdown",
   "id": "1e140f39",
   "metadata": {},
   "source": [
    "i need to gather films that were highest grossing at the box office. and if available, the names of directors, writters and actors in said films. and just to make sure my biases arent effecting the data too much, the rating for each film. \n",
    "\n",
    "after doing the below steps, i will go back to the origional data to see if there are other correlations\n",
    "\n",
    "1) read all available databases and see what data is inside\n",
    "2) covert to pandas Dataframes and remove columns that are not part of my hypothesis. \n",
    "3) join dataframes based on film title and get average rating\n",
    "4) make four dataframes, one joined based on genre, one on writters, one on directors, one on actors, and make graphs\n",
    "    for each based on pearson correlation, and see which has the highest correlation\n",
    "    \n",
    "the tables available *Box Office Mojo* database with gross revenue\n",
    "*IMDB* databases with movie title, actors, directors, writters seperate tables\n",
    "\n",
    "i will need to join those tables and order them by titles\n",
    "\n",
    "\n",
    "after looking through all the databases and finding missing titles that were definitely profitable, i have decided to use\n",
    "a joined table of The Numbers databse, and Watch Mojo database as the main database, and then join to it and compare against it"
   ]
  },
  {
   "cell_type": "markdown",
   "id": "a169ceac",
   "metadata": {},
   "source": [
    "### Import data, and put each table into a dataframe"
   ]
  },
  {
   "cell_type": "code",
   "execution_count": 2,
   "id": "3cf25f1d",
   "metadata": {},
   "outputs": [
    {
     "data": {
      "text/html": [
       "<div>\n",
       "<style scoped>\n",
       "    .dataframe tbody tr th:only-of-type {\n",
       "        vertical-align: middle;\n",
       "    }\n",
       "\n",
       "    .dataframe tbody tr th {\n",
       "        vertical-align: top;\n",
       "    }\n",
       "\n",
       "    .dataframe thead th {\n",
       "        text-align: right;\n",
       "    }\n",
       "</style>\n",
       "<table border=\"1\" class=\"dataframe\">\n",
       "  <thead>\n",
       "    <tr style=\"text-align: right;\">\n",
       "      <th></th>\n",
       "      <th>tconst</th>\n",
       "      <th>primary_title</th>\n",
       "      <th>original_title</th>\n",
       "      <th>start_year</th>\n",
       "      <th>runtime_minutes</th>\n",
       "      <th>genres</th>\n",
       "    </tr>\n",
       "  </thead>\n",
       "  <tbody>\n",
       "    <tr>\n",
       "      <th>0</th>\n",
       "      <td>tt0063540</td>\n",
       "      <td>Sunghursh</td>\n",
       "      <td>Sunghursh</td>\n",
       "      <td>2013</td>\n",
       "      <td>175.0</td>\n",
       "      <td>Action,Crime,Drama</td>\n",
       "    </tr>\n",
       "    <tr>\n",
       "      <th>1</th>\n",
       "      <td>tt0066787</td>\n",
       "      <td>One Day Before the Rainy Season</td>\n",
       "      <td>Ashad Ka Ek Din</td>\n",
       "      <td>2019</td>\n",
       "      <td>114.0</td>\n",
       "      <td>Biography,Drama</td>\n",
       "    </tr>\n",
       "  </tbody>\n",
       "</table>\n",
       "</div>"
      ],
      "text/plain": [
       "      tconst                    primary_title   original_title  start_year  \\\n",
       "0  tt0063540                        Sunghursh        Sunghursh        2013   \n",
       "1  tt0066787  One Day Before the Rainy Season  Ashad Ka Ek Din        2019   \n",
       "\n",
       "   runtime_minutes              genres  \n",
       "0            175.0  Action,Crime,Drama  \n",
       "1            114.0     Biography,Drama  "
      ]
     },
     "execution_count": 2,
     "metadata": {},
     "output_type": "execute_result"
    }
   ],
   "source": [
    "imdb_film_title = pd.read_csv(\"unzipped-data/imdb.title.basics.csv\")\n",
    "imdb_film_title.head(2)"
   ]
  },
  {
   "cell_type": "code",
   "execution_count": 3,
   "id": "c76ea35d",
   "metadata": {},
   "outputs": [
    {
     "data": {
      "text/html": [
       "<div>\n",
       "<style scoped>\n",
       "    .dataframe tbody tr th:only-of-type {\n",
       "        vertical-align: middle;\n",
       "    }\n",
       "\n",
       "    .dataframe tbody tr th {\n",
       "        vertical-align: top;\n",
       "    }\n",
       "\n",
       "    .dataframe thead th {\n",
       "        text-align: right;\n",
       "    }\n",
       "</style>\n",
       "<table border=\"1\" class=\"dataframe\">\n",
       "  <thead>\n",
       "    <tr style=\"text-align: right;\">\n",
       "      <th></th>\n",
       "      <th>title</th>\n",
       "      <th>studio</th>\n",
       "      <th>domestic_gross</th>\n",
       "      <th>foreign_gross</th>\n",
       "      <th>year</th>\n",
       "    </tr>\n",
       "  </thead>\n",
       "  <tbody>\n",
       "    <tr>\n",
       "      <th>0</th>\n",
       "      <td>Toy Story 3</td>\n",
       "      <td>BV</td>\n",
       "      <td>415000000.0</td>\n",
       "      <td>652000000</td>\n",
       "      <td>2010</td>\n",
       "    </tr>\n",
       "    <tr>\n",
       "      <th>1</th>\n",
       "      <td>Alice in Wonderland (2010)</td>\n",
       "      <td>BV</td>\n",
       "      <td>334200000.0</td>\n",
       "      <td>691300000</td>\n",
       "      <td>2010</td>\n",
       "    </tr>\n",
       "  </tbody>\n",
       "</table>\n",
       "</div>"
      ],
      "text/plain": [
       "                        title studio  domestic_gross foreign_gross  year\n",
       "0                 Toy Story 3     BV     415000000.0     652000000  2010\n",
       "1  Alice in Wonderland (2010)     BV     334200000.0     691300000  2010"
      ]
     },
     "execution_count": 3,
     "metadata": {},
     "output_type": "execute_result"
    }
   ],
   "source": [
    "box_mojo_gross = pd.read_csv(\"unzipped-data/bom.movie_gross.csv\")\n",
    "box_mojo_gross.head(2)"
   ]
  },
  {
   "cell_type": "code",
   "execution_count": 4,
   "id": "3681bf82",
   "metadata": {},
   "outputs": [
    {
     "data": {
      "text/html": [
       "<div>\n",
       "<style scoped>\n",
       "    .dataframe tbody tr th:only-of-type {\n",
       "        vertical-align: middle;\n",
       "    }\n",
       "\n",
       "    .dataframe tbody tr th {\n",
       "        vertical-align: top;\n",
       "    }\n",
       "\n",
       "    .dataframe thead th {\n",
       "        text-align: right;\n",
       "    }\n",
       "</style>\n",
       "<table border=\"1\" class=\"dataframe\">\n",
       "  <thead>\n",
       "    <tr style=\"text-align: right;\">\n",
       "      <th></th>\n",
       "      <th>nconst</th>\n",
       "      <th>primary_name</th>\n",
       "      <th>birth_year</th>\n",
       "      <th>death_year</th>\n",
       "      <th>primary_profession</th>\n",
       "      <th>known_for_titles</th>\n",
       "    </tr>\n",
       "  </thead>\n",
       "  <tbody>\n",
       "    <tr>\n",
       "      <th>0</th>\n",
       "      <td>nm0061671</td>\n",
       "      <td>Mary Ellen Bauder</td>\n",
       "      <td>NaN</td>\n",
       "      <td>NaN</td>\n",
       "      <td>miscellaneous,production_manager,producer</td>\n",
       "      <td>tt0837562,tt2398241,tt0844471,tt0118553</td>\n",
       "    </tr>\n",
       "    <tr>\n",
       "      <th>1</th>\n",
       "      <td>nm0061865</td>\n",
       "      <td>Joseph Bauer</td>\n",
       "      <td>NaN</td>\n",
       "      <td>NaN</td>\n",
       "      <td>composer,music_department,sound_department</td>\n",
       "      <td>tt0896534,tt6791238,tt0287072,tt1682940</td>\n",
       "    </tr>\n",
       "  </tbody>\n",
       "</table>\n",
       "</div>"
      ],
      "text/plain": [
       "      nconst       primary_name  birth_year  death_year  \\\n",
       "0  nm0061671  Mary Ellen Bauder         NaN         NaN   \n",
       "1  nm0061865       Joseph Bauer         NaN         NaN   \n",
       "\n",
       "                           primary_profession  \\\n",
       "0   miscellaneous,production_manager,producer   \n",
       "1  composer,music_department,sound_department   \n",
       "\n",
       "                          known_for_titles  \n",
       "0  tt0837562,tt2398241,tt0844471,tt0118553  \n",
       "1  tt0896534,tt6791238,tt0287072,tt1682940  "
      ]
     },
     "execution_count": 4,
     "metadata": {},
     "output_type": "execute_result"
    }
   ],
   "source": [
    "people_involved_profession_relatedTitles = pd.read_csv(\"unzipped-data/imdb.name.basics.csv\")\n",
    "people_involved_profession_relatedTitles.head(2)"
   ]
  },
  {
   "cell_type": "code",
   "execution_count": 5,
   "id": "5613bf8f",
   "metadata": {
    "scrolled": true
   },
   "outputs": [
    {
     "data": {
      "text/html": [
       "<div>\n",
       "<style scoped>\n",
       "    .dataframe tbody tr th:only-of-type {\n",
       "        vertical-align: middle;\n",
       "    }\n",
       "\n",
       "    .dataframe tbody tr th {\n",
       "        vertical-align: top;\n",
       "    }\n",
       "\n",
       "    .dataframe thead th {\n",
       "        text-align: right;\n",
       "    }\n",
       "</style>\n",
       "<table border=\"1\" class=\"dataframe\">\n",
       "  <thead>\n",
       "    <tr style=\"text-align: right;\">\n",
       "      <th></th>\n",
       "      <th>tconst</th>\n",
       "      <th>directors</th>\n",
       "      <th>writers</th>\n",
       "    </tr>\n",
       "  </thead>\n",
       "  <tbody>\n",
       "    <tr>\n",
       "      <th>0</th>\n",
       "      <td>tt0285252</td>\n",
       "      <td>nm0899854</td>\n",
       "      <td>nm0899854</td>\n",
       "    </tr>\n",
       "    <tr>\n",
       "      <th>1</th>\n",
       "      <td>tt0438973</td>\n",
       "      <td>NaN</td>\n",
       "      <td>nm0175726,nm1802864</td>\n",
       "    </tr>\n",
       "  </tbody>\n",
       "</table>\n",
       "</div>"
      ],
      "text/plain": [
       "      tconst  directors              writers\n",
       "0  tt0285252  nm0899854            nm0899854\n",
       "1  tt0438973        NaN  nm0175726,nm1802864"
      ]
     },
     "execution_count": 5,
     "metadata": {},
     "output_type": "execute_result"
    }
   ],
   "source": [
    "film_title_crew_reference_index = pd.read_csv(\"unzipped-data/imdb.title.crew.csv\")\n",
    "film_title_crew_reference_index.head(2)"
   ]
  },
  {
   "cell_type": "code",
   "execution_count": 6,
   "id": "8a675b30",
   "metadata": {},
   "outputs": [
    {
     "data": {
      "text/html": [
       "<div>\n",
       "<style scoped>\n",
       "    .dataframe tbody tr th:only-of-type {\n",
       "        vertical-align: middle;\n",
       "    }\n",
       "\n",
       "    .dataframe tbody tr th {\n",
       "        vertical-align: top;\n",
       "    }\n",
       "\n",
       "    .dataframe thead th {\n",
       "        text-align: right;\n",
       "    }\n",
       "</style>\n",
       "<table border=\"1\" class=\"dataframe\">\n",
       "  <thead>\n",
       "    <tr style=\"text-align: right;\">\n",
       "      <th></th>\n",
       "      <th>tconst</th>\n",
       "      <th>ordering</th>\n",
       "      <th>nconst</th>\n",
       "      <th>category</th>\n",
       "      <th>job</th>\n",
       "      <th>characters</th>\n",
       "    </tr>\n",
       "  </thead>\n",
       "  <tbody>\n",
       "    <tr>\n",
       "      <th>0</th>\n",
       "      <td>tt0111414</td>\n",
       "      <td>1</td>\n",
       "      <td>nm0246005</td>\n",
       "      <td>actor</td>\n",
       "      <td>NaN</td>\n",
       "      <td>[\"The Man\"]</td>\n",
       "    </tr>\n",
       "    <tr>\n",
       "      <th>1</th>\n",
       "      <td>tt0111414</td>\n",
       "      <td>2</td>\n",
       "      <td>nm0398271</td>\n",
       "      <td>director</td>\n",
       "      <td>NaN</td>\n",
       "      <td>NaN</td>\n",
       "    </tr>\n",
       "  </tbody>\n",
       "</table>\n",
       "</div>"
      ],
      "text/plain": [
       "      tconst  ordering     nconst  category  job   characters\n",
       "0  tt0111414         1  nm0246005     actor  NaN  [\"The Man\"]\n",
       "1  tt0111414         2  nm0398271  director  NaN          NaN"
      ]
     },
     "execution_count": 6,
     "metadata": {},
     "output_type": "execute_result"
    }
   ],
   "source": [
    "job_title_category_index = pd.read_csv(\"unzipped-data/imdb.title.principals.csv\")\n",
    "job_title_category_index.head(2)"
   ]
  },
  {
   "cell_type": "code",
   "execution_count": 7,
   "id": "3a97378f",
   "metadata": {},
   "outputs": [
    {
     "data": {
      "text/html": [
       "<div>\n",
       "<style scoped>\n",
       "    .dataframe tbody tr th:only-of-type {\n",
       "        vertical-align: middle;\n",
       "    }\n",
       "\n",
       "    .dataframe tbody tr th {\n",
       "        vertical-align: top;\n",
       "    }\n",
       "\n",
       "    .dataframe thead th {\n",
       "        text-align: right;\n",
       "    }\n",
       "</style>\n",
       "<table border=\"1\" class=\"dataframe\">\n",
       "  <thead>\n",
       "    <tr style=\"text-align: right;\">\n",
       "      <th></th>\n",
       "      <th>tconst</th>\n",
       "      <th>averagerating</th>\n",
       "      <th>numvotes</th>\n",
       "    </tr>\n",
       "  </thead>\n",
       "  <tbody>\n",
       "    <tr>\n",
       "      <th>0</th>\n",
       "      <td>tt10356526</td>\n",
       "      <td>8.3</td>\n",
       "      <td>31</td>\n",
       "    </tr>\n",
       "    <tr>\n",
       "      <th>1</th>\n",
       "      <td>tt10384606</td>\n",
       "      <td>8.9</td>\n",
       "      <td>559</td>\n",
       "    </tr>\n",
       "    <tr>\n",
       "      <th>2</th>\n",
       "      <td>tt1042974</td>\n",
       "      <td>6.4</td>\n",
       "      <td>20</td>\n",
       "    </tr>\n",
       "    <tr>\n",
       "      <th>3</th>\n",
       "      <td>tt1043726</td>\n",
       "      <td>4.2</td>\n",
       "      <td>50352</td>\n",
       "    </tr>\n",
       "    <tr>\n",
       "      <th>4</th>\n",
       "      <td>tt1060240</td>\n",
       "      <td>6.5</td>\n",
       "      <td>21</td>\n",
       "    </tr>\n",
       "  </tbody>\n",
       "</table>\n",
       "</div>"
      ],
      "text/plain": [
       "       tconst  averagerating  numvotes\n",
       "0  tt10356526            8.3        31\n",
       "1  tt10384606            8.9       559\n",
       "2   tt1042974            6.4        20\n",
       "3   tt1043726            4.2     50352\n",
       "4   tt1060240            6.5        21"
      ]
     },
     "execution_count": 7,
     "metadata": {},
     "output_type": "execute_result"
    }
   ],
   "source": [
    "imdb_ratings_index = pd.read_csv(\"unzipped-data/imdb.title.ratings.csv\")\n",
    "imdb_ratings_index.head(5)"
   ]
  },
  {
   "cell_type": "code",
   "execution_count": 8,
   "id": "40c015de",
   "metadata": {},
   "outputs": [
    {
     "data": {
      "text/html": [
       "<div>\n",
       "<style scoped>\n",
       "    .dataframe tbody tr th:only-of-type {\n",
       "        vertical-align: middle;\n",
       "    }\n",
       "\n",
       "    .dataframe tbody tr th {\n",
       "        vertical-align: top;\n",
       "    }\n",
       "\n",
       "    .dataframe thead th {\n",
       "        text-align: right;\n",
       "    }\n",
       "</style>\n",
       "<table border=\"1\" class=\"dataframe\">\n",
       "  <thead>\n",
       "    <tr style=\"text-align: right;\">\n",
       "      <th></th>\n",
       "      <th>id</th>\n",
       "      <th>release_date</th>\n",
       "      <th>movie</th>\n",
       "      <th>production_budget</th>\n",
       "      <th>domestic_gross</th>\n",
       "      <th>worldwide_gross</th>\n",
       "    </tr>\n",
       "  </thead>\n",
       "  <tbody>\n",
       "    <tr>\n",
       "      <th>0</th>\n",
       "      <td>1</td>\n",
       "      <td>Dec 18, 2009</td>\n",
       "      <td>Avatar</td>\n",
       "      <td>$425,000,000</td>\n",
       "      <td>$760,507,625</td>\n",
       "      <td>$2,776,345,279</td>\n",
       "    </tr>\n",
       "    <tr>\n",
       "      <th>1</th>\n",
       "      <td>2</td>\n",
       "      <td>May 20, 2011</td>\n",
       "      <td>Pirates of the Caribbean: On Stranger Tides</td>\n",
       "      <td>$410,600,000</td>\n",
       "      <td>$241,063,875</td>\n",
       "      <td>$1,045,663,875</td>\n",
       "    </tr>\n",
       "  </tbody>\n",
       "</table>\n",
       "</div>"
      ],
      "text/plain": [
       "   id  release_date                                        movie  \\\n",
       "0   1  Dec 18, 2009                                       Avatar   \n",
       "1   2  May 20, 2011  Pirates of the Caribbean: On Stranger Tides   \n",
       "\n",
       "  production_budget domestic_gross worldwide_gross  \n",
       "0      $425,000,000   $760,507,625  $2,776,345,279  \n",
       "1      $410,600,000   $241,063,875  $1,045,663,875  "
      ]
     },
     "execution_count": 8,
     "metadata": {},
     "output_type": "execute_result"
    }
   ],
   "source": [
    "the_numbers_gross = pd.read_csv(\"unzipped-data/tn.movie_budgets.csv\")\n",
    "the_numbers_gross.head(2)"
   ]
  },
  {
   "cell_type": "markdown",
   "id": "96f496f7",
   "metadata": {},
   "source": [
    "# Data Cleaning"
   ]
  },
  {
   "cell_type": "markdown",
   "id": "17a11c86",
   "metadata": {},
   "source": [
    "### data from The Numbers was in string format, and we need it as Integers"
   ]
  },
  {
   "cell_type": "code",
   "execution_count": 9,
   "id": "042e8f26",
   "metadata": {},
   "outputs": [
    {
     "name": "stderr",
     "output_type": "stream",
     "text": [
      "C:\\Users\\yonic\\AppData\\Local\\Temp/ipykernel_20692/566704501.py:1: FutureWarning: The default value of regex will change from True to False in a future version.\n",
      "  the_numbers_gross['domestic_gross'] = the_numbers_gross['domestic_gross'].str.replace(r'\\D', '').astype(int)\n"
     ]
    }
   ],
   "source": [
    "the_numbers_gross['domestic_gross'] = the_numbers_gross['domestic_gross'].str.replace(r'\\D', '').astype(int)"
   ]
  },
  {
   "cell_type": "code",
   "execution_count": 10,
   "id": "4a690b78",
   "metadata": {},
   "outputs": [
    {
     "name": "stderr",
     "output_type": "stream",
     "text": [
      "C:\\Users\\yonic\\AppData\\Local\\Temp/ipykernel_20692/1828636146.py:1: FutureWarning: The default value of regex will change from True to False in a future version.\n",
      "  the_numbers_gross['production_budget'] = the_numbers_gross['production_budget'].str.replace(r'\\D', '').astype(int)\n"
     ]
    }
   ],
   "source": [
    "the_numbers_gross['production_budget'] = the_numbers_gross['production_budget'].str.replace(r'\\D', '').astype(int)"
   ]
  },
  {
   "cell_type": "code",
   "execution_count": 11,
   "id": "ca3e7e2a",
   "metadata": {},
   "outputs": [
    {
     "name": "stderr",
     "output_type": "stream",
     "text": [
      "C:\\Users\\yonic\\AppData\\Local\\Temp/ipykernel_20692/2739544300.py:1: FutureWarning: The default value of regex will change from True to False in a future version.\n",
      "  the_numbers_gross['worldwide_gross'] = the_numbers_gross['worldwide_gross'].str.replace(r'\\D', '').astype(float)\n"
     ]
    }
   ],
   "source": [
    "the_numbers_gross['worldwide_gross'] = the_numbers_gross['worldwide_gross'].str.replace(r'\\D', '').astype(float)"
   ]
  },
  {
   "cell_type": "code",
   "execution_count": 12,
   "id": "04c75dc1",
   "metadata": {},
   "outputs": [],
   "source": [
    "the_numbers_gross['worldwide_gross'] = the_numbers_gross['worldwide_gross'].astype(int)"
   ]
  },
  {
   "cell_type": "markdown",
   "id": "77d94967",
   "metadata": {},
   "source": [
    "#### to join BoxMojo and TheNumbers data, it's easier if the columns have the same name"
   ]
  },
  {
   "cell_type": "code",
   "execution_count": 13,
   "id": "a31b402e",
   "metadata": {},
   "outputs": [],
   "source": [
    "box_mojo_gross = box_mojo_gross.rename(columns={'title': 'movie'})"
   ]
  },
  {
   "cell_type": "code",
   "execution_count": 14,
   "id": "d8ecb58c",
   "metadata": {},
   "outputs": [],
   "source": [
    "box_mojo_gross['movie'] = box_mojo_gross['movie'].astype(str)"
   ]
  },
  {
   "cell_type": "code",
   "execution_count": 15,
   "id": "5852a232",
   "metadata": {},
   "outputs": [],
   "source": [
    "the_numbers_gross['movie'] = the_numbers_gross['movie'].astype(str)"
   ]
  },
  {
   "cell_type": "markdown",
   "id": "a08671d2",
   "metadata": {},
   "source": [
    "#### concatenate both tables, because i was having lots of trouble joining them"
   ]
  },
  {
   "cell_type": "code",
   "execution_count": 17,
   "id": "d8d795b8",
   "metadata": {},
   "outputs": [],
   "source": [
    "mojo_numbers = pd.concat([box_mojo_gross, the_numbers_gross])"
   ]
  },
  {
   "cell_type": "markdown",
   "id": "ca46644e",
   "metadata": {},
   "source": [
    "checking data to make sure a popular movie is actually still in there"
   ]
  },
  {
   "cell_type": "code",
   "execution_count": 18,
   "id": "5b8f6517",
   "metadata": {},
   "outputs": [
    {
     "data": {
      "text/html": [
       "<div>\n",
       "<style scoped>\n",
       "    .dataframe tbody tr th:only-of-type {\n",
       "        vertical-align: middle;\n",
       "    }\n",
       "\n",
       "    .dataframe tbody tr th {\n",
       "        vertical-align: top;\n",
       "    }\n",
       "\n",
       "    .dataframe thead th {\n",
       "        text-align: right;\n",
       "    }\n",
       "</style>\n",
       "<table border=\"1\" class=\"dataframe\">\n",
       "  <thead>\n",
       "    <tr style=\"text-align: right;\">\n",
       "      <th></th>\n",
       "      <th>movie</th>\n",
       "      <th>studio</th>\n",
       "      <th>domestic_gross</th>\n",
       "      <th>foreign_gross</th>\n",
       "      <th>year</th>\n",
       "      <th>id</th>\n",
       "      <th>release_date</th>\n",
       "      <th>production_budget</th>\n",
       "      <th>worldwide_gross</th>\n",
       "    </tr>\n",
       "  </thead>\n",
       "  <tbody>\n",
       "    <tr>\n",
       "      <th>824</th>\n",
       "      <td>Jurassic Park</td>\n",
       "      <td>NaN</td>\n",
       "      <td>395708305.0</td>\n",
       "      <td>NaN</td>\n",
       "      <td>NaN</td>\n",
       "      <td>25.0</td>\n",
       "      <td>Jun 11, 1993</td>\n",
       "      <td>63000000.0</td>\n",
       "      <td>1.038813e+09</td>\n",
       "    </tr>\n",
       "  </tbody>\n",
       "</table>\n",
       "</div>"
      ],
      "text/plain": [
       "             movie studio  domestic_gross foreign_gross  year    id  \\\n",
       "824  Jurassic Park    NaN     395708305.0           NaN   NaN  25.0   \n",
       "\n",
       "     release_date  production_budget  worldwide_gross  \n",
       "824  Jun 11, 1993         63000000.0     1.038813e+09  "
      ]
     },
     "execution_count": 18,
     "metadata": {},
     "output_type": "execute_result"
    }
   ],
   "source": [
    "mojo_numbers.loc[mojo_numbers['movie'] == 'Jurassic Park']"
   ]
  },
  {
   "cell_type": "markdown",
   "id": "150c7ce4",
   "metadata": {},
   "source": [
    "see how many rows are null, to see how much more cleaning is neccessary"
   ]
  },
  {
   "cell_type": "code",
   "execution_count": 19,
   "id": "0fe5c2e0",
   "metadata": {},
   "outputs": [
    {
     "name": "stdout",
     "output_type": "stream",
     "text": [
      "<class 'pandas.core.frame.DataFrame'>\n",
      "Int64Index: 9169 entries, 0 to 5781\n",
      "Data columns (total 9 columns):\n",
      " #   Column             Non-Null Count  Dtype  \n",
      "---  ------             --------------  -----  \n",
      " 0   movie              9169 non-null   object \n",
      " 1   studio             3382 non-null   object \n",
      " 2   domestic_gross     9141 non-null   float64\n",
      " 3   foreign_gross      2037 non-null   object \n",
      " 4   year               3387 non-null   float64\n",
      " 5   id                 5782 non-null   float64\n",
      " 6   release_date       5782 non-null   object \n",
      " 7   production_budget  5782 non-null   float64\n",
      " 8   worldwide_gross    5782 non-null   float64\n",
      "dtypes: float64(5), object(4)\n",
      "memory usage: 716.3+ KB\n"
     ]
    }
   ],
   "source": [
    "mojo_numbers.info()"
   ]
  },
  {
   "cell_type": "markdown",
   "id": "b94a3b7d",
   "metadata": {},
   "source": [
    "### Get list of profitable films"
   ]
  },
  {
   "cell_type": "code",
   "execution_count": 20,
   "id": "e7f2ec1a",
   "metadata": {},
   "outputs": [
    {
     "name": "stdout",
     "output_type": "stream",
     "text": [
      "<class 'pandas.core.frame.DataFrame'>\n",
      "Int64Index: 2677 entries, 0 to 5781\n",
      "Data columns (total 9 columns):\n",
      " #   Column             Non-Null Count  Dtype  \n",
      "---  ------             --------------  -----  \n",
      " 0   movie              2677 non-null   object \n",
      " 1   studio             0 non-null      object \n",
      " 2   domestic_gross     2677 non-null   float64\n",
      " 3   foreign_gross      0 non-null      object \n",
      " 4   year               0 non-null      float64\n",
      " 5   id                 2677 non-null   float64\n",
      " 6   release_date       2677 non-null   object \n",
      " 7   production_budget  2677 non-null   float64\n",
      " 8   worldwide_gross    2677 non-null   float64\n",
      "dtypes: float64(5), object(4)\n",
      "memory usage: 209.1+ KB\n"
     ]
    }
   ],
   "source": [
    "some_profit = mojo_numbers.loc[(mojo_numbers['domestic_gross'] - mojo_numbers['production_budget']) > 1]\n",
    "some_profit.info()"
   ]
  },
  {
   "cell_type": "markdown",
   "id": "23a67e12",
   "metadata": {},
   "source": [
    "Drop unneccessary columns"
   ]
  },
  {
   "cell_type": "code",
   "execution_count": 21,
   "id": "13503bfc",
   "metadata": {},
   "outputs": [
    {
     "name": "stdout",
     "output_type": "stream",
     "text": [
      "<class 'pandas.core.frame.DataFrame'>\n",
      "Int64Index: 2677 entries, 0 to 5781\n",
      "Data columns (total 6 columns):\n",
      " #   Column             Non-Null Count  Dtype  \n",
      "---  ------             --------------  -----  \n",
      " 0   movie              2677 non-null   object \n",
      " 1   domestic_gross     2677 non-null   float64\n",
      " 2   id                 2677 non-null   float64\n",
      " 3   release_date       2677 non-null   object \n",
      " 4   production_budget  2677 non-null   float64\n",
      " 5   worldwide_gross    2677 non-null   float64\n",
      "dtypes: float64(4), object(2)\n",
      "memory usage: 146.4+ KB\n"
     ]
    }
   ],
   "source": [
    "some_profit = some_profit.drop(columns=['studio', 'foreign_gross', 'year'])\n",
    "some_profit.info()"
   ]
  },
  {
   "cell_type": "markdown",
   "id": "41cdcc97",
   "metadata": {},
   "source": [
    "merge data with profit numbers with film ratings from IMDB"
   ]
  },
  {
   "cell_type": "code",
   "execution_count": 22,
   "id": "fdd7cb6b",
   "metadata": {},
   "outputs": [],
   "source": [
    "imdb_mojo_numbers = pd.merge(mojo_numbers, imdb_film_title, left_on='movie', right_on='primary_title')"
   ]
  },
  {
   "cell_type": "markdown",
   "id": "b95d8b1b",
   "metadata": {},
   "source": [
    "Add columns with profit amounts per film"
   ]
  },
  {
   "cell_type": "code",
   "execution_count": 23,
   "id": "32401e0f",
   "metadata": {},
   "outputs": [
    {
     "name": "stdout",
     "output_type": "stream",
     "text": [
      "<class 'pandas.core.frame.DataFrame'>\n",
      "Int64Index: 7181 entries, 0 to 7180\n",
      "Data columns (total 17 columns):\n",
      " #   Column             Non-Null Count  Dtype  \n",
      "---  ------             --------------  -----  \n",
      " 0   movie              7181 non-null   object \n",
      " 1   studio             3363 non-null   object \n",
      " 2   domestic_gross     7157 non-null   float64\n",
      " 3   foreign_gross      2043 non-null   object \n",
      " 4   year               3366 non-null   float64\n",
      " 5   id                 3815 non-null   float64\n",
      " 6   release_date       3815 non-null   object \n",
      " 7   production_budget  3815 non-null   float64\n",
      " 8   worldwide_gross    3815 non-null   float64\n",
      " 9   tconst             7181 non-null   object \n",
      " 10  primary_title      7181 non-null   object \n",
      " 11  original_title     7180 non-null   object \n",
      " 12  start_year         7181 non-null   int64  \n",
      " 13  runtime_minutes    6526 non-null   float64\n",
      " 14  genres             7069 non-null   object \n",
      " 15  domestic_profit    3815 non-null   float64\n",
      " 16  intnl_profit       3815 non-null   float64\n",
      "dtypes: float64(8), int64(1), object(8)\n",
      "memory usage: 1009.8+ KB\n"
     ]
    }
   ],
   "source": [
    "imdb_mojo_numbers['domestic_profit'] = imdb_mojo_numbers['domestic_gross'] - imdb_mojo_numbers['production_budget']\n",
    "imdb_mojo_numbers['intnl_profit'] = imdb_mojo_numbers['worldwide_gross'] - imdb_mojo_numbers['production_budget']\n",
    "imdb_mojo_numbers.info()"
   ]
  },
  {
   "cell_type": "code",
   "execution_count": 24,
   "id": "5545600c",
   "metadata": {},
   "outputs": [
    {
     "data": {
      "text/html": [
       "<div>\n",
       "<style scoped>\n",
       "    .dataframe tbody tr th:only-of-type {\n",
       "        vertical-align: middle;\n",
       "    }\n",
       "\n",
       "    .dataframe tbody tr th {\n",
       "        vertical-align: top;\n",
       "    }\n",
       "\n",
       "    .dataframe thead th {\n",
       "        text-align: right;\n",
       "    }\n",
       "</style>\n",
       "<table border=\"1\" class=\"dataframe\">\n",
       "  <thead>\n",
       "    <tr style=\"text-align: right;\">\n",
       "      <th></th>\n",
       "      <th>movie</th>\n",
       "      <th>studio</th>\n",
       "      <th>domestic_gross</th>\n",
       "      <th>foreign_gross</th>\n",
       "      <th>year</th>\n",
       "      <th>id</th>\n",
       "      <th>release_date</th>\n",
       "      <th>production_budget</th>\n",
       "      <th>worldwide_gross</th>\n",
       "      <th>tconst</th>\n",
       "      <th>primary_title</th>\n",
       "      <th>original_title</th>\n",
       "      <th>start_year</th>\n",
       "      <th>runtime_minutes</th>\n",
       "      <th>genres</th>\n",
       "      <th>domestic_profit</th>\n",
       "      <th>intnl_profit</th>\n",
       "    </tr>\n",
       "  </thead>\n",
       "  <tbody>\n",
       "    <tr>\n",
       "      <th>4544</th>\n",
       "      <td>Black Panther</td>\n",
       "      <td>NaN</td>\n",
       "      <td>700059566.0</td>\n",
       "      <td>NaN</td>\n",
       "      <td>NaN</td>\n",
       "      <td>42.0</td>\n",
       "      <td>Feb 16, 2018</td>\n",
       "      <td>200000000.0</td>\n",
       "      <td>1.348258e+09</td>\n",
       "      <td>tt1825683</td>\n",
       "      <td>Black Panther</td>\n",
       "      <td>Black Panther</td>\n",
       "      <td>2018</td>\n",
       "      <td>134.0</td>\n",
       "      <td>Action,Adventure,Sci-Fi</td>\n",
       "      <td>500059566.0</td>\n",
       "      <td>1.148258e+09</td>\n",
       "    </tr>\n",
       "    <tr>\n",
       "      <th>4976</th>\n",
       "      <td>Titanic</td>\n",
       "      <td>NaN</td>\n",
       "      <td>659363944.0</td>\n",
       "      <td>NaN</td>\n",
       "      <td>NaN</td>\n",
       "      <td>43.0</td>\n",
       "      <td>Dec 19, 1997</td>\n",
       "      <td>200000000.0</td>\n",
       "      <td>-2.147484e+09</td>\n",
       "      <td>tt2495766</td>\n",
       "      <td>Titanic</td>\n",
       "      <td>Titanic</td>\n",
       "      <td>2012</td>\n",
       "      <td>NaN</td>\n",
       "      <td>Adventure</td>\n",
       "      <td>459363944.0</td>\n",
       "      <td>-2.347484e+09</td>\n",
       "    </tr>\n",
       "    <tr>\n",
       "      <th>4977</th>\n",
       "      <td>Titanic</td>\n",
       "      <td>NaN</td>\n",
       "      <td>659363944.0</td>\n",
       "      <td>NaN</td>\n",
       "      <td>NaN</td>\n",
       "      <td>43.0</td>\n",
       "      <td>Dec 19, 1997</td>\n",
       "      <td>200000000.0</td>\n",
       "      <td>-2.147484e+09</td>\n",
       "      <td>tt8852130</td>\n",
       "      <td>Titanic</td>\n",
       "      <td>Titanic</td>\n",
       "      <td>2018</td>\n",
       "      <td>115.0</td>\n",
       "      <td>Family</td>\n",
       "      <td>459363944.0</td>\n",
       "      <td>-2.347484e+09</td>\n",
       "    </tr>\n",
       "    <tr>\n",
       "      <th>2739</th>\n",
       "      <td>Jurassic World</td>\n",
       "      <td>NaN</td>\n",
       "      <td>652270625.0</td>\n",
       "      <td>NaN</td>\n",
       "      <td>NaN</td>\n",
       "      <td>34.0</td>\n",
       "      <td>Jun 12, 2015</td>\n",
       "      <td>215000000.0</td>\n",
       "      <td>1.648855e+09</td>\n",
       "      <td>tt0369610</td>\n",
       "      <td>Jurassic World</td>\n",
       "      <td>Jurassic World</td>\n",
       "      <td>2015</td>\n",
       "      <td>124.0</td>\n",
       "      <td>Action,Adventure,Sci-Fi</td>\n",
       "      <td>437270625.0</td>\n",
       "      <td>1.433855e+09</td>\n",
       "    </tr>\n",
       "    <tr>\n",
       "      <th>4548</th>\n",
       "      <td>Incredibles 2</td>\n",
       "      <td>NaN</td>\n",
       "      <td>608581744.0</td>\n",
       "      <td>NaN</td>\n",
       "      <td>NaN</td>\n",
       "      <td>44.0</td>\n",
       "      <td>Jun 15, 2018</td>\n",
       "      <td>200000000.0</td>\n",
       "      <td>1.242521e+09</td>\n",
       "      <td>tt3606756</td>\n",
       "      <td>Incredibles 2</td>\n",
       "      <td>Incredibles 2</td>\n",
       "      <td>2018</td>\n",
       "      <td>118.0</td>\n",
       "      <td>Action,Adventure,Animation</td>\n",
       "      <td>408581744.0</td>\n",
       "      <td>1.042521e+09</td>\n",
       "    </tr>\n",
       "    <tr>\n",
       "      <th>4970</th>\n",
       "      <td>The Avengers</td>\n",
       "      <td>NaN</td>\n",
       "      <td>623279547.0</td>\n",
       "      <td>NaN</td>\n",
       "      <td>NaN</td>\n",
       "      <td>27.0</td>\n",
       "      <td>May 4, 2012</td>\n",
       "      <td>225000000.0</td>\n",
       "      <td>1.517936e+09</td>\n",
       "      <td>tt0848228</td>\n",
       "      <td>The Avengers</td>\n",
       "      <td>The Avengers</td>\n",
       "      <td>2012</td>\n",
       "      <td>143.0</td>\n",
       "      <td>Action,Adventure,Sci-Fi</td>\n",
       "      <td>398279547.0</td>\n",
       "      <td>1.292936e+09</td>\n",
       "    </tr>\n",
       "    <tr>\n",
       "      <th>4542</th>\n",
       "      <td>Avengers: Infinity War</td>\n",
       "      <td>NaN</td>\n",
       "      <td>678815482.0</td>\n",
       "      <td>NaN</td>\n",
       "      <td>NaN</td>\n",
       "      <td>7.0</td>\n",
       "      <td>Apr 27, 2018</td>\n",
       "      <td>300000000.0</td>\n",
       "      <td>2.048134e+09</td>\n",
       "      <td>tt4154756</td>\n",
       "      <td>Avengers: Infinity War</td>\n",
       "      <td>Avengers: Infinity War</td>\n",
       "      <td>2018</td>\n",
       "      <td>149.0</td>\n",
       "      <td>Action,Adventure,Sci-Fi</td>\n",
       "      <td>378815482.0</td>\n",
       "      <td>1.748134e+09</td>\n",
       "    </tr>\n",
       "    <tr>\n",
       "      <th>5008</th>\n",
       "      <td>Beauty and the Beast</td>\n",
       "      <td>NaN</td>\n",
       "      <td>376057266.0</td>\n",
       "      <td>NaN</td>\n",
       "      <td>NaN</td>\n",
       "      <td>86.0</td>\n",
       "      <td>Nov 13, 1991</td>\n",
       "      <td>20000000.0</td>\n",
       "      <td>6.084311e+08</td>\n",
       "      <td>tt9173998</td>\n",
       "      <td>Beauty and the Beast</td>\n",
       "      <td>Beauty and the Beast</td>\n",
       "      <td>2018</td>\n",
       "      <td>60.0</td>\n",
       "      <td>Family,Fantasy,Musical</td>\n",
       "      <td>356057266.0</td>\n",
       "      <td>5.884311e+08</td>\n",
       "    </tr>\n",
       "  </tbody>\n",
       "</table>\n",
       "</div>"
      ],
      "text/plain": [
       "                       movie studio  domestic_gross foreign_gross  year    id  \\\n",
       "4544           Black Panther    NaN     700059566.0           NaN   NaN  42.0   \n",
       "4976                 Titanic    NaN     659363944.0           NaN   NaN  43.0   \n",
       "4977                 Titanic    NaN     659363944.0           NaN   NaN  43.0   \n",
       "2739          Jurassic World    NaN     652270625.0           NaN   NaN  34.0   \n",
       "4548           Incredibles 2    NaN     608581744.0           NaN   NaN  44.0   \n",
       "4970            The Avengers    NaN     623279547.0           NaN   NaN  27.0   \n",
       "4542  Avengers: Infinity War    NaN     678815482.0           NaN   NaN   7.0   \n",
       "5008    Beauty and the Beast    NaN     376057266.0           NaN   NaN  86.0   \n",
       "\n",
       "      release_date  production_budget  worldwide_gross     tconst  \\\n",
       "4544  Feb 16, 2018        200000000.0     1.348258e+09  tt1825683   \n",
       "4976  Dec 19, 1997        200000000.0    -2.147484e+09  tt2495766   \n",
       "4977  Dec 19, 1997        200000000.0    -2.147484e+09  tt8852130   \n",
       "2739  Jun 12, 2015        215000000.0     1.648855e+09  tt0369610   \n",
       "4548  Jun 15, 2018        200000000.0     1.242521e+09  tt3606756   \n",
       "4970   May 4, 2012        225000000.0     1.517936e+09  tt0848228   \n",
       "4542  Apr 27, 2018        300000000.0     2.048134e+09  tt4154756   \n",
       "5008  Nov 13, 1991         20000000.0     6.084311e+08  tt9173998   \n",
       "\n",
       "               primary_title          original_title  start_year  \\\n",
       "4544           Black Panther           Black Panther        2018   \n",
       "4976                 Titanic                 Titanic        2012   \n",
       "4977                 Titanic                 Titanic        2018   \n",
       "2739          Jurassic World          Jurassic World        2015   \n",
       "4548           Incredibles 2           Incredibles 2        2018   \n",
       "4970            The Avengers            The Avengers        2012   \n",
       "4542  Avengers: Infinity War  Avengers: Infinity War        2018   \n",
       "5008    Beauty and the Beast    Beauty and the Beast        2018   \n",
       "\n",
       "      runtime_minutes                      genres  domestic_profit  \\\n",
       "4544            134.0     Action,Adventure,Sci-Fi      500059566.0   \n",
       "4976              NaN                   Adventure      459363944.0   \n",
       "4977            115.0                      Family      459363944.0   \n",
       "2739            124.0     Action,Adventure,Sci-Fi      437270625.0   \n",
       "4548            118.0  Action,Adventure,Animation      408581744.0   \n",
       "4970            143.0     Action,Adventure,Sci-Fi      398279547.0   \n",
       "4542            149.0     Action,Adventure,Sci-Fi      378815482.0   \n",
       "5008             60.0      Family,Fantasy,Musical      356057266.0   \n",
       "\n",
       "      intnl_profit  \n",
       "4544  1.148258e+09  \n",
       "4976 -2.347484e+09  \n",
       "4977 -2.347484e+09  \n",
       "2739  1.433855e+09  \n",
       "4548  1.042521e+09  \n",
       "4970  1.292936e+09  \n",
       "4542  1.748134e+09  \n",
       "5008  5.884311e+08  "
      ]
     },
     "execution_count": 24,
     "metadata": {},
     "output_type": "execute_result"
    }
   ],
   "source": [
    "top_gross = imdb_mojo_numbers.sort_values('domestic_profit', ascending=False)\n",
    "top_hundred = top_gross.head(100)\n",
    "top_gross.head(8)"
   ]
  },
  {
   "cell_type": "markdown",
   "id": "9e9a6737",
   "metadata": {},
   "source": [
    "# Make graph comparing production budget VS profit\n",
    "to see if there is a concentration of a certain \"price range\" for a film\n",
    "that would possibly hint to a limit of financial investment"
   ]
  },
  {
   "cell_type": "code",
   "execution_count": 25,
   "id": "c7221eb5",
   "metadata": {},
   "outputs": [
    {
     "data": {
      "image/png": "[encoded data removed]",
      "text/plain": [
       "<Figure size 720x720 with 1 Axes>"
      ]
     },
     "metadata": {
      "needs_background": "light"
     },
     "output_type": "display_data"
    }
   ],
   "source": [
    "plt.figure(figsize=[10, 10])\n",
    "sns.scatterplot(data=top_hundred, \n",
    "                x='production_budget', \n",
    "                y='domestic_profit', \n",
    "                hue='domestic_profit',\n",
    "                size='domestic_profit',\n",
    "                sizes=(20, 200))\n",
    "plt.title(\"Budget VS Profit in millions of Dollars\")\n",
    "plt.xlabel(\"Budget\")\n",
    "plt.ylabel(\"Profit on domestic sales\");"
   ]
  },
  {
   "cell_type": "markdown",
   "id": "c4dbc8f5",
   "metadata": {},
   "source": [
    "## same as above but for international sales"
   ]
  },
  {
   "cell_type": "code",
   "execution_count": 26,
   "id": "d440c093",
   "metadata": {},
   "outputs": [
    {
     "data": {
      "image/png": "[encoded data removed]",
      "text/plain": [
       "<Figure size 720x720 with 1 Axes>"
      ]
     },
     "metadata": {
      "needs_background": "light"
     },
     "output_type": "display_data"
    }
   ],
   "source": [
    "plt.figure(figsize=[10, 10])\n",
    "sns.scatterplot(data=top_hundred, \n",
    "                x='production_budget', \n",
    "                y='intnl_profit', \n",
    "                hue='intnl_profit',\n",
    "                size='intnl_profit',\n",
    "                sizes=(20, 200))\n",
    "plt.title(\"Budget VS Worldwide Profit\")\n",
    "plt.xlabel(\"Budget millions of Dollars\")\n",
    "plt.ylabel(\"Net profit on worldwide sales Billions Dollars\");"
   ]
  },
  {
   "cell_type": "markdown",
   "id": "85bd4238",
   "metadata": {},
   "source": [
    "### calculate standard deviation"
   ]
  },
  {
   "cell_type": "code",
   "execution_count": 27,
   "id": "8c15fb50",
   "metadata": {},
   "outputs": [
    {
     "data": {
      "text/plain": [
       "50618720.0"
      ]
     },
     "execution_count": 27,
     "metadata": {},
     "output_type": "execute_result"
    }
   ],
   "source": [
    "standev_dom = round(top_gross['domestic_profit'].std(), 0)\n",
    "standev_dom"
   ]
  },
  {
   "cell_type": "code",
   "execution_count": 28,
   "id": "57dc0298",
   "metadata": {},
   "outputs": [
    {
     "name": "stdout",
     "output_type": "stream",
     "text": [
      "<class 'pandas.core.frame.DataFrame'>\n",
      "Int64Index: 373 entries, 4544 to 2283\n",
      "Data columns (total 17 columns):\n",
      " #   Column             Non-Null Count  Dtype  \n",
      "---  ------             --------------  -----  \n",
      " 0   movie              373 non-null    object \n",
      " 1   studio             0 non-null      object \n",
      " 2   domestic_gross     373 non-null    float64\n",
      " 3   foreign_gross      0 non-null      object \n",
      " 4   year               0 non-null      float64\n",
      " 5   id                 373 non-null    float64\n",
      " 6   release_date       373 non-null    object \n",
      " 7   production_budget  373 non-null    float64\n",
      " 8   worldwide_gross    373 non-null    float64\n",
      " 9   tconst             373 non-null    object \n",
      " 10  primary_title      373 non-null    object \n",
      " 11  original_title     373 non-null    object \n",
      " 12  start_year         373 non-null    int64  \n",
      " 13  runtime_minutes    330 non-null    float64\n",
      " 14  genres             365 non-null    object \n",
      " 15  domestic_profit    373 non-null    float64\n",
      " 16  intnl_profit       373 non-null    float64\n",
      "dtypes: float64(8), int64(1), object(8)\n",
      "memory usage: 52.5+ KB\n"
     ]
    }
   ],
   "source": [
    "better_than_avg_dom = top_gross.loc[top_gross['domestic_profit'] > standev_dom]\n",
    "better_than_avg_dom.info()"
   ]
  },
  {
   "cell_type": "markdown",
   "id": "321c1ac0",
   "metadata": {},
   "source": [
    "## same graph as above, but with films taht made more than standard deviation"
   ]
  },
  {
   "cell_type": "code",
   "execution_count": 93,
   "id": "c5b1de98",
   "metadata": {},
   "outputs": [
    {
     "data": {
      "image/png": "[encoded data removed]",
      "text/plain": [
       "<Figure size 720x720 with 1 Axes>"
      ]
     },
     "metadata": {
      "needs_background": "light"
     },
     "output_type": "display_data"
    }
   ],
   "source": [
    "plt.figure(figsize=[10, 10])\n",
    "sns.scatterplot(data=better_than_avg_dom, \n",
    "                x='production_budget', \n",
    "                y='domestic_profit', \n",
    "                hue='domestic_profit',\n",
    "                size='domestic_profit',\n",
    "                sizes=(20, 200))\n",
    "plt.title(\"Budget VS Profit in millions of Dollars\")\n",
    "plt.xlabel(\"Budget\")\n",
    "plt.ylabel(\"Profit on domestic sales\");"
   ]
  },
  {
   "cell_type": "markdown",
   "id": "8b06191a",
   "metadata": {},
   "source": [
    "### now we have a list of movies that performed better than average financially.\n",
    "lets see how it matches up with IMDB ratings\n"
   ]
  },
  {
   "cell_type": "code",
   "execution_count": 29,
   "id": "17bb48bc",
   "metadata": {},
   "outputs": [
    {
     "name": "stdout",
     "output_type": "stream",
     "text": [
      "<class 'pandas.core.frame.DataFrame'>\n",
      "Int64Index: 1000 entries, 183 to 73834\n",
      "Data columns (total 3 columns):\n",
      " #   Column         Non-Null Count  Dtype  \n",
      "---  ------         --------------  -----  \n",
      " 0   tconst         1000 non-null   object \n",
      " 1   averagerating  1000 non-null   float64\n",
      " 2   numvotes       1000 non-null   int64  \n",
      "dtypes: float64(1), int64(1), object(1)\n",
      "memory usage: 31.2+ KB\n"
     ]
    }
   ],
   "source": [
    "top_rated = imdb_ratings_index.loc[imdb_ratings_index['averagerating'] > 9]\n",
    "top_rated.info()"
   ]
  },
  {
   "cell_type": "markdown",
   "id": "ae11b565",
   "metadata": {},
   "source": [
    "get list of people in popular movies"
   ]
  },
  {
   "cell_type": "code",
   "execution_count": 30,
   "id": "8a20ca99",
   "metadata": {},
   "outputs": [
    {
     "name": "stdout",
     "output_type": "stream",
     "text": [
      "<class 'pandas.core.frame.DataFrame'>\n",
      "Int64Index: 7022 entries, 189 to 1027783\n",
      "Data columns (total 6 columns):\n",
      " #   Column      Non-Null Count  Dtype \n",
      "---  ------      --------------  ----- \n",
      " 0   tconst      7022 non-null   object\n",
      " 1   ordering    7022 non-null   int64 \n",
      " 2   nconst      7022 non-null   object\n",
      " 3   category    7022 non-null   object\n",
      " 4   job         1037 non-null   object\n",
      " 5   characters  2766 non-null   object\n",
      "dtypes: int64(1), object(5)\n",
      "memory usage: 384.0+ KB\n"
     ]
    }
   ],
   "source": [
    "pep_in_pop = job_title_category_index.loc[job_title_category_index['tconst'].isin(top_rated['tconst'])]\n",
    "pep_in_pop.info()\n"
   ]
  },
  {
   "cell_type": "code",
   "execution_count": 31,
   "id": "16a13b4d",
   "metadata": {},
   "outputs": [
    {
     "data": {
      "text/plain": [
       "nm8802619    4\n",
       "nm3167849    4\n",
       "nm4813335    3\n",
       "nm6795049    3\n",
       "nm9396612    3\n",
       "            ..\n",
       "nm5464449    1\n",
       "nm5464892    1\n",
       "nm5465575    1\n",
       "nm3921864    1\n",
       "nm5104351    1\n",
       "Name: nconst, Length: 6873, dtype: int64"
      ]
     },
     "execution_count": 31,
     "metadata": {},
     "output_type": "execute_result"
    }
   ],
   "source": [
    "pep_in_pop['nconst'].value_counts()"
   ]
  },
  {
   "cell_type": "code",
   "execution_count": 32,
   "id": "562cfb15",
   "metadata": {},
   "outputs": [
    {
     "data": {
      "text/html": [
       "<div>\n",
       "<style scoped>\n",
       "    .dataframe tbody tr th:only-of-type {\n",
       "        vertical-align: middle;\n",
       "    }\n",
       "\n",
       "    .dataframe tbody tr th {\n",
       "        vertical-align: top;\n",
       "    }\n",
       "\n",
       "    .dataframe thead th {\n",
       "        text-align: right;\n",
       "    }\n",
       "</style>\n",
       "<table border=\"1\" class=\"dataframe\">\n",
       "  <thead>\n",
       "    <tr style=\"text-align: right;\">\n",
       "      <th></th>\n",
       "      <th>tconst</th>\n",
       "      <th>ordering</th>\n",
       "      <th>nconst</th>\n",
       "      <th>category</th>\n",
       "      <th>job</th>\n",
       "      <th>characters</th>\n",
       "    </tr>\n",
       "  </thead>\n",
       "  <tbody>\n",
       "    <tr>\n",
       "      <th>189</th>\n",
       "      <td>tt10121022</td>\n",
       "      <td>10</td>\n",
       "      <td>nm10591489</td>\n",
       "      <td>self</td>\n",
       "      <td>NaN</td>\n",
       "      <td>[\"Himself\"]</td>\n",
       "    </tr>\n",
       "    <tr>\n",
       "      <th>190</th>\n",
       "      <td>tt10121022</td>\n",
       "      <td>1</td>\n",
       "      <td>nm10620900</td>\n",
       "      <td>self</td>\n",
       "      <td>NaN</td>\n",
       "      <td>[\"Herself\"]</td>\n",
       "    </tr>\n",
       "    <tr>\n",
       "      <th>191</th>\n",
       "      <td>tt10121022</td>\n",
       "      <td>2</td>\n",
       "      <td>nm10591482</td>\n",
       "      <td>self</td>\n",
       "      <td>NaN</td>\n",
       "      <td>[\"Himself\"]</td>\n",
       "    </tr>\n",
       "    <tr>\n",
       "      <th>192</th>\n",
       "      <td>tt10121022</td>\n",
       "      <td>3</td>\n",
       "      <td>nm10591483</td>\n",
       "      <td>self</td>\n",
       "      <td>NaN</td>\n",
       "      <td>[\"Himself\"]</td>\n",
       "    </tr>\n",
       "    <tr>\n",
       "      <th>193</th>\n",
       "      <td>tt10121022</td>\n",
       "      <td>4</td>\n",
       "      <td>nm10591484</td>\n",
       "      <td>self</td>\n",
       "      <td>NaN</td>\n",
       "      <td>[\"Herself\"]</td>\n",
       "    </tr>\n",
       "  </tbody>\n",
       "</table>\n",
       "</div>"
      ],
      "text/plain": [
       "         tconst  ordering      nconst category  job   characters\n",
       "189  tt10121022        10  nm10591489     self  NaN  [\"Himself\"]\n",
       "190  tt10121022         1  nm10620900     self  NaN  [\"Herself\"]\n",
       "191  tt10121022         2  nm10591482     self  NaN  [\"Himself\"]\n",
       "192  tt10121022         3  nm10591483     self  NaN  [\"Himself\"]\n",
       "193  tt10121022         4  nm10591484     self  NaN  [\"Herself\"]"
      ]
     },
     "execution_count": 32,
     "metadata": {},
     "output_type": "execute_result"
    }
   ],
   "source": [
    "pep_in_pop.head()"
   ]
  },
  {
   "cell_type": "markdown",
   "id": "bfe0280b",
   "metadata": {},
   "source": [
    "#### get list of actors in popular movies"
   ]
  },
  {
   "cell_type": "code",
   "execution_count": 33,
   "id": "e664cbcc",
   "metadata": {},
   "outputs": [
    {
     "data": {
      "text/html": [
       "<div>\n",
       "<style scoped>\n",
       "    .dataframe tbody tr th:only-of-type {\n",
       "        vertical-align: middle;\n",
       "    }\n",
       "\n",
       "    .dataframe tbody tr th {\n",
       "        vertical-align: top;\n",
       "    }\n",
       "\n",
       "    .dataframe thead th {\n",
       "        text-align: right;\n",
       "    }\n",
       "</style>\n",
       "<table border=\"1\" class=\"dataframe\">\n",
       "  <thead>\n",
       "    <tr style=\"text-align: right;\">\n",
       "      <th></th>\n",
       "      <th>tconst</th>\n",
       "      <th>ordering</th>\n",
       "      <th>nconst</th>\n",
       "      <th>category</th>\n",
       "      <th>job</th>\n",
       "      <th>characters</th>\n",
       "    </tr>\n",
       "  </thead>\n",
       "  <tbody>\n",
       "    <tr>\n",
       "      <th>189</th>\n",
       "      <td>tt10121022</td>\n",
       "      <td>10</td>\n",
       "      <td>nm10591489</td>\n",
       "      <td>self</td>\n",
       "      <td>NaN</td>\n",
       "      <td>[\"Himself\"]</td>\n",
       "    </tr>\n",
       "    <tr>\n",
       "      <th>190</th>\n",
       "      <td>tt10121022</td>\n",
       "      <td>1</td>\n",
       "      <td>nm10620900</td>\n",
       "      <td>self</td>\n",
       "      <td>NaN</td>\n",
       "      <td>[\"Herself\"]</td>\n",
       "    </tr>\n",
       "    <tr>\n",
       "      <th>191</th>\n",
       "      <td>tt10121022</td>\n",
       "      <td>2</td>\n",
       "      <td>nm10591482</td>\n",
       "      <td>self</td>\n",
       "      <td>NaN</td>\n",
       "      <td>[\"Himself\"]</td>\n",
       "    </tr>\n",
       "    <tr>\n",
       "      <th>192</th>\n",
       "      <td>tt10121022</td>\n",
       "      <td>3</td>\n",
       "      <td>nm10591483</td>\n",
       "      <td>self</td>\n",
       "      <td>NaN</td>\n",
       "      <td>[\"Himself\"]</td>\n",
       "    </tr>\n",
       "    <tr>\n",
       "      <th>193</th>\n",
       "      <td>tt10121022</td>\n",
       "      <td>4</td>\n",
       "      <td>nm10591484</td>\n",
       "      <td>self</td>\n",
       "      <td>NaN</td>\n",
       "      <td>[\"Herself\"]</td>\n",
       "    </tr>\n",
       "    <tr>\n",
       "      <th>...</th>\n",
       "      <td>...</td>\n",
       "      <td>...</td>\n",
       "      <td>...</td>\n",
       "      <td>...</td>\n",
       "      <td>...</td>\n",
       "      <td>...</td>\n",
       "    </tr>\n",
       "    <tr>\n",
       "      <th>1027425</th>\n",
       "      <td>tt8937428</td>\n",
       "      <td>9</td>\n",
       "      <td>nm10132188</td>\n",
       "      <td>actor</td>\n",
       "      <td>NaN</td>\n",
       "      <td>[\"Demonio del Infierno\"]</td>\n",
       "    </tr>\n",
       "    <tr>\n",
       "      <th>1027777</th>\n",
       "      <td>tt9261416</td>\n",
       "      <td>1</td>\n",
       "      <td>nm4740006</td>\n",
       "      <td>actor</td>\n",
       "      <td>NaN</td>\n",
       "      <td>[\"Pastor Joe\"]</td>\n",
       "    </tr>\n",
       "    <tr>\n",
       "      <th>1027778</th>\n",
       "      <td>tt9261416</td>\n",
       "      <td>2</td>\n",
       "      <td>nm4074219</td>\n",
       "      <td>actress</td>\n",
       "      <td>NaN</td>\n",
       "      <td>[\"Tasha Bennet\"]</td>\n",
       "    </tr>\n",
       "    <tr>\n",
       "      <th>1027779</th>\n",
       "      <td>tt9261416</td>\n",
       "      <td>3</td>\n",
       "      <td>nm7609247</td>\n",
       "      <td>actress</td>\n",
       "      <td>NaN</td>\n",
       "      <td>[\"Linda\"]</td>\n",
       "    </tr>\n",
       "    <tr>\n",
       "      <th>1027780</th>\n",
       "      <td>tt9261416</td>\n",
       "      <td>4</td>\n",
       "      <td>nm3891109</td>\n",
       "      <td>actor</td>\n",
       "      <td>NaN</td>\n",
       "      <td>[\"Doctor\",\"Friend\"]</td>\n",
       "    </tr>\n",
       "  </tbody>\n",
       "</table>\n",
       "<p>3132 rows × 6 columns</p>\n",
       "</div>"
      ],
      "text/plain": [
       "             tconst  ordering      nconst category  job  \\\n",
       "189      tt10121022        10  nm10591489     self  NaN   \n",
       "190      tt10121022         1  nm10620900     self  NaN   \n",
       "191      tt10121022         2  nm10591482     self  NaN   \n",
       "192      tt10121022         3  nm10591483     self  NaN   \n",
       "193      tt10121022         4  nm10591484     self  NaN   \n",
       "...             ...       ...         ...      ...  ...   \n",
       "1027425   tt8937428         9  nm10132188    actor  NaN   \n",
       "1027777   tt9261416         1   nm4740006    actor  NaN   \n",
       "1027778   tt9261416         2   nm4074219  actress  NaN   \n",
       "1027779   tt9261416         3   nm7609247  actress  NaN   \n",
       "1027780   tt9261416         4   nm3891109    actor  NaN   \n",
       "\n",
       "                       characters  \n",
       "189                   [\"Himself\"]  \n",
       "190                   [\"Herself\"]  \n",
       "191                   [\"Himself\"]  \n",
       "192                   [\"Himself\"]  \n",
       "193                   [\"Herself\"]  \n",
       "...                           ...  \n",
       "1027425  [\"Demonio del Infierno\"]  \n",
       "1027777            [\"Pastor Joe\"]  \n",
       "1027778          [\"Tasha Bennet\"]  \n",
       "1027779                 [\"Linda\"]  \n",
       "1027780       [\"Doctor\",\"Friend\"]  \n",
       "\n",
       "[3132 rows x 6 columns]"
      ]
     },
     "execution_count": 33,
     "metadata": {},
     "output_type": "execute_result"
    }
   ],
   "source": [
    "actors = pep_in_pop.loc[pep_in_pop['category'].str.contains('act|self', regex=True)]\n",
    "actors"
   ]
  },
  {
   "cell_type": "code",
   "execution_count": 34,
   "id": "8d20a0e3",
   "metadata": {},
   "outputs": [
    {
     "data": {
      "text/plain": [
       "nm8802619    4\n",
       "nm5954636    3\n",
       "nm6034610    3\n",
       "nm4847702    3\n",
       "nm2502988    3\n",
       "            ..\n",
       "nm1826889    1\n",
       "nm3655078    1\n",
       "nm4643207    1\n",
       "nm0904340    1\n",
       "nm3891109    1\n",
       "Name: nconst, Length: 3084, dtype: int64"
      ]
     },
     "execution_count": 34,
     "metadata": {},
     "output_type": "execute_result"
    }
   ],
   "source": [
    "actors['nconst'].value_counts()"
   ]
  },
  {
   "cell_type": "markdown",
   "id": "3135e05d",
   "metadata": {},
   "source": [
    "#### get list of Directors/Writers in popular movies\n",
    "(from a seperate database)\n",
    "\n",
    "#####  how many unique people in each movie\n",
    "from the `film_title_crew_reference_index` database"
   ]
  },
  {
   "cell_type": "code",
   "execution_count": 35,
   "id": "47b114f8",
   "metadata": {},
   "outputs": [
    {
     "name": "stdout",
     "output_type": "stream",
     "text": [
      "<class 'pandas.core.frame.DataFrame'>\n",
      "Int64Index: 1000 entries, 37 to 146109\n",
      "Data columns (total 3 columns):\n",
      " #   Column     Non-Null Count  Dtype \n",
      "---  ------     --------------  ----- \n",
      " 0   tconst     1000 non-null   object\n",
      " 1   directors  979 non-null    object\n",
      " 2   writers    685 non-null    object\n",
      "dtypes: object(3)\n",
      "memory usage: 31.2+ KB\n"
     ]
    }
   ],
   "source": [
    "jobs_in_pop_mov = film_title_crew_reference_index.loc[film_title_crew_reference_index['tconst'].isin(top_rated['tconst'])]\n",
    "jobs_in_pop_mov.info()"
   ]
  },
  {
   "cell_type": "code",
   "execution_count": 36,
   "id": "7e12f400",
   "metadata": {},
   "outputs": [
    {
     "data": {
      "text/html": [
       "<div>\n",
       "<style scoped>\n",
       "    .dataframe tbody tr th:only-of-type {\n",
       "        vertical-align: middle;\n",
       "    }\n",
       "\n",
       "    .dataframe tbody tr th {\n",
       "        vertical-align: top;\n",
       "    }\n",
       "\n",
       "    .dataframe thead th {\n",
       "        text-align: right;\n",
       "    }\n",
       "</style>\n",
       "<table border=\"1\" class=\"dataframe\">\n",
       "  <thead>\n",
       "    <tr style=\"text-align: right;\">\n",
       "      <th></th>\n",
       "      <th>tconst</th>\n",
       "      <th>directors</th>\n",
       "      <th>writers</th>\n",
       "    </tr>\n",
       "  </thead>\n",
       "  <tbody>\n",
       "    <tr>\n",
       "      <th>37</th>\n",
       "      <td>tt10140002</td>\n",
       "      <td>nm0104200,nm1098369</td>\n",
       "      <td>nm0104200</td>\n",
       "    </tr>\n",
       "    <tr>\n",
       "      <th>167</th>\n",
       "      <td>tt1652390</td>\n",
       "      <td>nm2739675,nm3900394</td>\n",
       "      <td>nm2739675,nm3900608</td>\n",
       "    </tr>\n",
       "    <tr>\n",
       "      <th>208</th>\n",
       "      <td>tt1808567</td>\n",
       "      <td>nm2489519</td>\n",
       "      <td>nm7091973</td>\n",
       "    </tr>\n",
       "    <tr>\n",
       "      <th>281</th>\n",
       "      <td>tt1859482</td>\n",
       "      <td>nm1413104</td>\n",
       "      <td>NaN</td>\n",
       "    </tr>\n",
       "    <tr>\n",
       "      <th>370</th>\n",
       "      <td>tt2083935</td>\n",
       "      <td>nm1626841,nm4959612</td>\n",
       "      <td>nm1626841,nm3982118</td>\n",
       "    </tr>\n",
       "  </tbody>\n",
       "</table>\n",
       "</div>"
      ],
      "text/plain": [
       "         tconst            directors              writers\n",
       "37   tt10140002  nm0104200,nm1098369            nm0104200\n",
       "167   tt1652390  nm2739675,nm3900394  nm2739675,nm3900608\n",
       "208   tt1808567            nm2489519            nm7091973\n",
       "281   tt1859482            nm1413104                  NaN\n",
       "370   tt2083935  nm1626841,nm4959612  nm1626841,nm3982118"
      ]
     },
     "execution_count": 36,
     "metadata": {},
     "output_type": "execute_result"
    }
   ],
   "source": [
    "jobs_in_pop_mov.head()"
   ]
  },
  {
   "cell_type": "markdown",
   "id": "22ced67f",
   "metadata": {},
   "source": [
    "## more data cleaning before merging data\n",
    "merging directors/writers names with data from imdb where each name has an\n",
    "`nconst` value associated with each name"
   ]
  },
  {
   "cell_type": "code",
   "execution_count": 37,
   "id": "775cc53f",
   "metadata": {},
   "outputs": [],
   "source": [
    "valid_writers = jobs_in_pop_mov.loc[jobs_in_pop_mov['writers'].notna()]"
   ]
  },
  {
   "cell_type": "code",
   "execution_count": 38,
   "id": "649c6e72",
   "metadata": {},
   "outputs": [],
   "source": [
    "valid_writers = valid_writers.drop(columns='directors')"
   ]
  },
  {
   "cell_type": "code",
   "execution_count": 39,
   "id": "5e3761a2",
   "metadata": {},
   "outputs": [
    {
     "data": {
      "text/html": [
       "<div>\n",
       "<style scoped>\n",
       "    .dataframe tbody tr th:only-of-type {\n",
       "        vertical-align: middle;\n",
       "    }\n",
       "\n",
       "    .dataframe tbody tr th {\n",
       "        vertical-align: top;\n",
       "    }\n",
       "\n",
       "    .dataframe thead th {\n",
       "        text-align: right;\n",
       "    }\n",
       "</style>\n",
       "<table border=\"1\" class=\"dataframe\">\n",
       "  <thead>\n",
       "    <tr style=\"text-align: right;\">\n",
       "      <th></th>\n",
       "      <th>tconst</th>\n",
       "      <th>writers</th>\n",
       "    </tr>\n",
       "  </thead>\n",
       "  <tbody>\n",
       "    <tr>\n",
       "      <th>37</th>\n",
       "      <td>tt10140002</td>\n",
       "      <td>nm0104200</td>\n",
       "    </tr>\n",
       "    <tr>\n",
       "      <th>167</th>\n",
       "      <td>tt1652390</td>\n",
       "      <td>nm2739675,nm3900608</td>\n",
       "    </tr>\n",
       "    <tr>\n",
       "      <th>208</th>\n",
       "      <td>tt1808567</td>\n",
       "      <td>nm7091973</td>\n",
       "    </tr>\n",
       "    <tr>\n",
       "      <th>370</th>\n",
       "      <td>tt2083935</td>\n",
       "      <td>nm1626841,nm3982118</td>\n",
       "    </tr>\n",
       "    <tr>\n",
       "      <th>821</th>\n",
       "      <td>tt4135932</td>\n",
       "      <td>nm1978171</td>\n",
       "    </tr>\n",
       "    <tr>\n",
       "      <th>...</th>\n",
       "      <td>...</td>\n",
       "      <td>...</td>\n",
       "    </tr>\n",
       "    <tr>\n",
       "      <th>145649</th>\n",
       "      <td>tt7456158</td>\n",
       "      <td>nm3688760</td>\n",
       "    </tr>\n",
       "    <tr>\n",
       "      <th>145681</th>\n",
       "      <td>tt7527526</td>\n",
       "      <td>nm2134681</td>\n",
       "    </tr>\n",
       "    <tr>\n",
       "      <th>145713</th>\n",
       "      <td>tt7599970</td>\n",
       "      <td>nm9337512,nm9337511</td>\n",
       "    </tr>\n",
       "    <tr>\n",
       "      <th>145845</th>\n",
       "      <td>tt7954050</td>\n",
       "      <td>nm1904091</td>\n",
       "    </tr>\n",
       "    <tr>\n",
       "      <th>146109</th>\n",
       "      <td>tt8892138</td>\n",
       "      <td>nm10071358</td>\n",
       "    </tr>\n",
       "  </tbody>\n",
       "</table>\n",
       "<p>685 rows × 2 columns</p>\n",
       "</div>"
      ],
      "text/plain": [
       "            tconst              writers\n",
       "37      tt10140002            nm0104200\n",
       "167      tt1652390  nm2739675,nm3900608\n",
       "208      tt1808567            nm7091973\n",
       "370      tt2083935  nm1626841,nm3982118\n",
       "821      tt4135932            nm1978171\n",
       "...            ...                  ...\n",
       "145649   tt7456158            nm3688760\n",
       "145681   tt7527526            nm2134681\n",
       "145713   tt7599970  nm9337512,nm9337511\n",
       "145845   tt7954050            nm1904091\n",
       "146109   tt8892138           nm10071358\n",
       "\n",
       "[685 rows x 2 columns]"
      ]
     },
     "execution_count": 39,
     "metadata": {},
     "output_type": "execute_result"
    }
   ],
   "source": [
    "valid_writers"
   ]
  },
  {
   "cell_type": "code",
   "execution_count": 40,
   "id": "9a8225d2",
   "metadata": {},
   "outputs": [],
   "source": [
    "valid_writers['writers'] = valid_writers['writers'].apply(lambda x: x[0: -1].split(','))"
   ]
  },
  {
   "cell_type": "code",
   "execution_count": 41,
   "id": "1538027d",
   "metadata": {},
   "outputs": [],
   "source": [
    "valid_writers = valid_writers.explode('writers')"
   ]
  },
  {
   "cell_type": "code",
   "execution_count": 42,
   "id": "91bfc428",
   "metadata": {},
   "outputs": [],
   "source": [
    "valid_writers.rename(columns={'writers': 'nconst'}, inplace=True)\n"
   ]
  },
  {
   "cell_type": "code",
   "execution_count": 43,
   "id": "94d77474",
   "metadata": {},
   "outputs": [],
   "source": [
    "valid_writers['nconst'] = valid_writers['nconst'].astype(str)"
   ]
  },
  {
   "cell_type": "code",
   "execution_count": 44,
   "id": "47af1627",
   "metadata": {},
   "outputs": [
    {
     "data": {
      "text/plain": [
       "array(['nm010420', 'nm2739675', 'nm390060', ..., 'nm933751', 'nm190409',\n",
       "       'nm1007135'], dtype=object)"
      ]
     },
     "execution_count": 44,
     "metadata": {},
     "output_type": "execute_result"
    }
   ],
   "source": [
    "valid_writers['nconst'].values"
   ]
  },
  {
   "cell_type": "code",
   "execution_count": 73,
   "id": "e191ca05",
   "metadata": {},
   "outputs": [
    {
     "data": {
      "text/html": [
       "<div>\n",
       "<style scoped>\n",
       "    .dataframe tbody tr th:only-of-type {\n",
       "        vertical-align: middle;\n",
       "    }\n",
       "\n",
       "    .dataframe tbody tr th {\n",
       "        vertical-align: top;\n",
       "    }\n",
       "\n",
       "    .dataframe thead th {\n",
       "        text-align: right;\n",
       "    }\n",
       "</style>\n",
       "<table border=\"1\" class=\"dataframe\">\n",
       "  <thead>\n",
       "    <tr style=\"text-align: right;\">\n",
       "      <th></th>\n",
       "      <th>tconst</th>\n",
       "      <th>averagerating</th>\n",
       "      <th>numvotes</th>\n",
       "    </tr>\n",
       "  </thead>\n",
       "  <tbody>\n",
       "    <tr>\n",
       "      <th>183</th>\n",
       "      <td>tt1651906</td>\n",
       "      <td>9.2</td>\n",
       "      <td>9</td>\n",
       "    </tr>\n",
       "    <tr>\n",
       "      <th>385</th>\n",
       "      <td>tt6780706</td>\n",
       "      <td>9.4</td>\n",
       "      <td>18</td>\n",
       "    </tr>\n",
       "    <tr>\n",
       "      <th>392</th>\n",
       "      <td>tt6850078</td>\n",
       "      <td>9.2</td>\n",
       "      <td>18</td>\n",
       "    </tr>\n",
       "    <tr>\n",
       "      <th>398</th>\n",
       "      <td>tt6867356</td>\n",
       "      <td>9.1</td>\n",
       "      <td>9</td>\n",
       "    </tr>\n",
       "    <tr>\n",
       "      <th>406</th>\n",
       "      <td>tt6922138</td>\n",
       "      <td>9.2</td>\n",
       "      <td>17</td>\n",
       "    </tr>\n",
       "  </tbody>\n",
       "</table>\n",
       "</div>"
      ],
      "text/plain": [
       "        tconst  averagerating  numvotes\n",
       "183  tt1651906            9.2         9\n",
       "385  tt6780706            9.4        18\n",
       "392  tt6850078            9.2        18\n",
       "398  tt6867356            9.1         9\n",
       "406  tt6922138            9.2        17"
      ]
     },
     "execution_count": 73,
     "metadata": {},
     "output_type": "execute_result"
    }
   ],
   "source": [
    "top_rated.head()"
   ]
  },
  {
   "cell_type": "code",
   "execution_count": 45,
   "id": "b047c727",
   "metadata": {},
   "outputs": [],
   "source": [
    "writers_names = pd.merge(valid_writers, people_involved_profession_relatedTitles[['nconst', 'primary_name']], on='nconst')"
   ]
  },
  {
   "cell_type": "code",
   "execution_count": 75,
   "id": "9326a4b0",
   "metadata": {},
   "outputs": [
    {
     "data": {
      "text/html": [
       "<div>\n",
       "<style scoped>\n",
       "    .dataframe tbody tr th:only-of-type {\n",
       "        vertical-align: middle;\n",
       "    }\n",
       "\n",
       "    .dataframe tbody tr th {\n",
       "        vertical-align: top;\n",
       "    }\n",
       "\n",
       "    .dataframe thead th {\n",
       "        text-align: right;\n",
       "    }\n",
       "</style>\n",
       "<table border=\"1\" class=\"dataframe\">\n",
       "  <thead>\n",
       "    <tr style=\"text-align: right;\">\n",
       "      <th></th>\n",
       "      <th>tconst</th>\n",
       "      <th>nconst</th>\n",
       "      <th>primary_name</th>\n",
       "    </tr>\n",
       "  </thead>\n",
       "  <tbody>\n",
       "    <tr>\n",
       "      <th>0</th>\n",
       "      <td>tt1652390</td>\n",
       "      <td>nm2739675</td>\n",
       "      <td>Ari Davidovich</td>\n",
       "    </tr>\n",
       "    <tr>\n",
       "      <th>1</th>\n",
       "      <td>tt2083935</td>\n",
       "      <td>nm1626841</td>\n",
       "      <td>Michael Koepenick</td>\n",
       "    </tr>\n",
       "    <tr>\n",
       "      <th>2</th>\n",
       "      <td>tt4198654</td>\n",
       "      <td>nm2188529</td>\n",
       "      <td>Jason Davidson</td>\n",
       "    </tr>\n",
       "    <tr>\n",
       "      <th>3</th>\n",
       "      <td>tt4198654</td>\n",
       "      <td>nm2119891</td>\n",
       "      <td>D'Lytha Myers</td>\n",
       "    </tr>\n",
       "    <tr>\n",
       "      <th>4</th>\n",
       "      <td>tt4198654</td>\n",
       "      <td>nm3071005</td>\n",
       "      <td>Nathan D. Myers</td>\n",
       "    </tr>\n",
       "    <tr>\n",
       "      <th>...</th>\n",
       "      <td>...</td>\n",
       "      <td>...</td>\n",
       "      <td>...</td>\n",
       "    </tr>\n",
       "    <tr>\n",
       "      <th>339</th>\n",
       "      <td>tt3312722</td>\n",
       "      <td>nm6090223</td>\n",
       "      <td>Hadas Afari</td>\n",
       "    </tr>\n",
       "    <tr>\n",
       "      <th>340</th>\n",
       "      <td>tt3312722</td>\n",
       "      <td>nm1462520</td>\n",
       "      <td>Luis Blanco Nazoa</td>\n",
       "    </tr>\n",
       "    <tr>\n",
       "      <th>341</th>\n",
       "      <td>tt5212746</td>\n",
       "      <td>nm7740525</td>\n",
       "      <td>Catherine Seo</td>\n",
       "    </tr>\n",
       "    <tr>\n",
       "      <th>342</th>\n",
       "      <td>tt6422258</td>\n",
       "      <td>nm0114231</td>\n",
       "      <td>Matthew A. Brown</td>\n",
       "    </tr>\n",
       "    <tr>\n",
       "      <th>343</th>\n",
       "      <td>tt7599970</td>\n",
       "      <td>nm9337512</td>\n",
       "      <td>Yuxin Yang</td>\n",
       "    </tr>\n",
       "  </tbody>\n",
       "</table>\n",
       "<p>344 rows × 3 columns</p>\n",
       "</div>"
      ],
      "text/plain": [
       "        tconst     nconst       primary_name\n",
       "0    tt1652390  nm2739675     Ari Davidovich\n",
       "1    tt2083935  nm1626841  Michael Koepenick\n",
       "2    tt4198654  nm2188529     Jason Davidson\n",
       "3    tt4198654  nm2119891      D'Lytha Myers\n",
       "4    tt4198654  nm3071005    Nathan D. Myers\n",
       "..         ...        ...                ...\n",
       "339  tt3312722  nm6090223        Hadas Afari\n",
       "340  tt3312722  nm1462520  Luis Blanco Nazoa\n",
       "341  tt5212746  nm7740525      Catherine Seo\n",
       "342  tt6422258  nm0114231   Matthew A. Brown\n",
       "343  tt7599970  nm9337512         Yuxin Yang\n",
       "\n",
       "[344 rows x 3 columns]"
      ]
     },
     "execution_count": 75,
     "metadata": {},
     "output_type": "execute_result"
    }
   ],
   "source": [
    "writers_names"
   ]
  },
  {
   "cell_type": "code",
   "execution_count": 76,
   "id": "38da1dd4",
   "metadata": {},
   "outputs": [],
   "source": [
    "writers_w_rating = pd.merge(writers_names, top_rated[['tconst', 'averagerating']], on='tconst') "
   ]
  },
  {
   "cell_type": "code",
   "execution_count": 47,
   "id": "86105e36",
   "metadata": {},
   "outputs": [],
   "source": [
    "directors = jobs_in_pop_mov.loc[jobs_in_pop_mov['directors'].notna()]"
   ]
  },
  {
   "cell_type": "code",
   "execution_count": 48,
   "id": "45f7a078",
   "metadata": {},
   "outputs": [],
   "source": [
    "directors = directors.drop(columns='writers')"
   ]
  },
  {
   "cell_type": "code",
   "execution_count": 49,
   "id": "04794157",
   "metadata": {},
   "outputs": [],
   "source": [
    "directors['directors'] = directors['directors'].apply(lambda x: x[0: -1].split(','))"
   ]
  },
  {
   "cell_type": "code",
   "execution_count": 50,
   "id": "4546ce37",
   "metadata": {},
   "outputs": [],
   "source": [
    "directors = directors.explode('directors')\n"
   ]
  },
  {
   "cell_type": "code",
   "execution_count": 51,
   "id": "3128402c",
   "metadata": {},
   "outputs": [],
   "source": [
    "directors.rename(columns={'directors': 'nconst'}, inplace=True)"
   ]
  },
  {
   "cell_type": "code",
   "execution_count": 52,
   "id": "56608cd9",
   "metadata": {},
   "outputs": [],
   "source": [
    "directors['nconst'] = directors['nconst'].astype(str)"
   ]
  },
  {
   "cell_type": "code",
   "execution_count": 62,
   "id": "fc083ec2",
   "metadata": {},
   "outputs": [],
   "source": [
    "directors_names = pd.merge(directors, people_involved_profession_relatedTitles[['nconst', 'primary_name']], on='nconst')"
   ]
  },
  {
   "cell_type": "code",
   "execution_count": 54,
   "id": "35a9bf49",
   "metadata": {},
   "outputs": [],
   "source": [
    "top_direct = directors_names.loc[directors_names['tconst'].isin(top_rated['tconst'])]"
   ]
  },
  {
   "cell_type": "code",
   "execution_count": 56,
   "id": "d86e1272",
   "metadata": {},
   "outputs": [],
   "source": [
    "top_dir_prof = top_direct.loc[top_direct['tconst'].isin(top_gross['tconst'])]"
   ]
  },
  {
   "cell_type": "code",
   "execution_count": 81,
   "id": "147c028a",
   "metadata": {},
   "outputs": [],
   "source": [
    "writers_w_rating.sort_values('averagerating', inplace=True)"
   ]
  },
  {
   "cell_type": "markdown",
   "id": "8ff9a428",
   "metadata": {},
   "source": [
    "### making graphs of popular Writers, Directors and Actors"
   ]
  },
  {
   "cell_type": "code",
   "execution_count": 84,
   "id": "25000d7a",
   "metadata": {},
   "outputs": [
    {
     "data": {
      "image/png": "[encoded data removed]",
      "text/plain": [
       "<Figure size 720x720 with 1 Axes>"
      ]
     },
     "metadata": {
      "needs_background": "light"
     },
     "output_type": "display_data"
    }
   ],
   "source": [
    "top_fift_writ = writers_w_rating.tail(50)\n",
    "\n",
    "plt.figure(figsize=[10, 10])\n",
    "sns.barplot(data=top_fift_writ, x='averagerating', y='primary_name')\n",
    "plt.title(\"Writers in profitable films\")\n",
    "plt.xlabel('Film Rating')\n",
    "plt.ylabel('Writer Name');"
   ]
  },
  {
   "cell_type": "code",
   "execution_count": 86,
   "id": "af241c46",
   "metadata": {},
   "outputs": [],
   "source": [
    "direct_w_avrg = pd.merge(top_direct, top_rated[['tconst', 'averagerating']], on='tconst') "
   ]
  },
  {
   "cell_type": "code",
   "execution_count": 87,
   "id": "a70075d2",
   "metadata": {},
   "outputs": [],
   "source": [
    "direct_w_avrg.sort_values('averagerating', inplace=True)"
   ]
  },
  {
   "cell_type": "code",
   "execution_count": 88,
   "id": "1656422a",
   "metadata": {},
   "outputs": [
    {
     "data": {
      "image/png": "[encoded data removed]",
      "text/plain": [
       "<Figure size 720x720 with 1 Axes>"
      ]
     },
     "metadata": {
      "needs_background": "light"
     },
     "output_type": "display_data"
    }
   ],
   "source": [
    "top_fift_dir = direct_w_avrg.tail(50)\n",
    "\n",
    "plt.figure(figsize=[10, 10])\n",
    "sns.barplot(data=top_fift_dir, x='averagerating', y='primary_name')\n",
    "plt.title(\"Directors in profitable films\")\n",
    "plt.xlabel('Film Rating')\n",
    "plt.ylabel('Directors Name');"
   ]
  },
  {
   "cell_type": "code",
   "execution_count": 89,
   "id": "6e3b598a",
   "metadata": {},
   "outputs": [],
   "source": [
    "actor_w_avrg = pd.merge(actors, top_rated[['tconst', 'averagerating']], on='tconst') "
   ]
  },
  {
   "cell_type": "code",
   "execution_count": 90,
   "id": "958230d1",
   "metadata": {},
   "outputs": [],
   "source": [
    "actor_w_avrg.sort_values('averagerating', inplace=True)"
   ]
  },
  {
   "cell_type": "code",
   "execution_count": 91,
   "id": "a915fbd2",
   "metadata": {},
   "outputs": [],
   "source": [
    "actr_w_name = pd.merge(actor_w_avrg, people_involved_profession_relatedTitles[['nconst', 'primary_name']], on='nconst')"
   ]
  },
  {
   "cell_type": "code",
   "execution_count": 92,
   "id": "4be8cf81",
   "metadata": {},
   "outputs": [
    {
     "data": {
      "image/png": "[encoded data removed]",
      "text/plain": [
       "<Figure size 720x720 with 1 Axes>"
      ]
     },
     "metadata": {
      "needs_background": "light"
     },
     "output_type": "display_data"
    }
   ],
   "source": [
    "top_fift_dir = actr_w_name.tail(50)\n",
    "\n",
    "plt.figure(figsize=[10, 10])\n",
    "sns.barplot(data=top_fift_dir, x='averagerating', y='primary_name')\n",
    "plt.title(\"Actors in profitable films\")\n",
    "plt.xlabel('Film Rating')\n",
    "plt.ylabel('Actors Name');"
   ]
  },
  {
   "cell_type": "markdown",
   "id": "e3091ea6",
   "metadata": {},
   "source": [
    "where i messed up\n",
    "1) should have made smaller data sets to THEN `join`\n",
    "2) should have used somethingbesides bar charts from people\n",
    "3) importing scipy was useless\n",
    "\n",
    "\n",
    "if i had more time i would have scraped more data from the web, \n",
    "used The Numbers API to get more recent and complete data\n",
    "and used IMDB's API to get more recent data about films"
   ]
  },
  {
   "cell_type": "code",
   "execution_count": null,
   "id": "96ffff2c",
   "metadata": {},
   "outputs": [],
   "source": []
  }
 ],
 "metadata": {
  "kernelspec": {
   "display_name": "Python 3 (ipykernel)",
   "language": "python",
   "name": "python3"
  },
  "language_info": {
   "codemirror_mode": {
    "name": "ipython",
    "version": 3
   },
   "file_extension": ".py",
   "mimetype": "text/x-python",
   "name": "python",
   "nbconvert_exporter": "python",
   "pygments_lexer": "ipython3",
   "version": "3.9.7"
  }
 },
 "nbformat": 4,
 "nbformat_minor": 5
}
